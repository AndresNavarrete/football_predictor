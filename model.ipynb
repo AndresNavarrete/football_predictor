{
 "cells": [
  {
   "cell_type": "code",
   "execution_count": 30,
   "metadata": {},
   "outputs": [],
   "source": [
    "import pandas as pd \n",
    "from sklearn.model_selection import train_test_split\n"
   ]
  },
  {
   "cell_type": "code",
   "execution_count": 31,
   "metadata": {},
   "outputs": [],
   "source": [
    "import numpy as np\n",
    " \n",
    "def get_fitting_summary(regressor, data, target):\n",
    "    predictions = regressor.predict(data)\n",
    "    errors_squared = (predictions - target) ** 2\n",
    "    \n",
    "    print('Mean Squared Error:', round(np.mean(errors_squared), 2), 'degrees.')\n",
    "\n",
    "    score = regressor.score(data, target)\n",
    "    print('R2:', round(score, 3))"
   ]
  },
  {
   "cell_type": "code",
   "execution_count": 32,
   "metadata": {},
   "outputs": [],
   "source": [
    "df = pd.read_csv(\"data/ml/df.csv\")"
   ]
  },
  {
   "cell_type": "code",
   "execution_count": 33,
   "metadata": {},
   "outputs": [],
   "source": [
    "df[\"diff_h_a\"] = df.goals_home-df.goals_away\n",
    "df[\"home_code\"] = df.home.astype(\"category\").cat.codes\n",
    "df[\"away_code\"] = df.away.astype(\"category\").cat.codes\n",
    "teams_dict = dict( zip( df.home.astype(\"category\").cat.codes , df.home ) )\n"
   ]
  },
  {
   "cell_type": "code",
   "execution_count": 35,
   "metadata": {},
   "outputs": [],
   "source": [
    "target_name = \"diff_h_a\"\n",
    "not_usefull_columns = [\n",
    "    target_name,\n",
    "    'Season',\n",
    "    'home',\n",
    "    'away',\n",
    "    'goals_home',\n",
    "    'goals_away'    \n",
    "    ]\n",
    "\n",
    "data = df.drop(columns=not_usefull_columns)\n",
    "target = df[target_name]\n",
    "\n",
    "data_train, data_test, target_train, target_test = train_test_split(\n",
    "    data, target, random_state=42)"
   ]
  },
  {
   "cell_type": "code",
   "execution_count": 36,
   "metadata": {},
   "outputs": [],
   "source": [
    "from sklearn.compose import make_column_selector as selector\n",
    "from sklearn.preprocessing import OneHotEncoder, StandardScaler\n",
    "from sklearn.compose import ColumnTransformer\n",
    "from sklearn.pipeline import make_pipeline\n",
    "\n",
    "\n",
    "float_columns_selector = selector(dtype_include=\"float\")\n",
    "int_columns_selector = selector(dtype_include=\"int\")\n",
    "\n",
    "numerical_columns = float_columns_selector(data) \n",
    "categorical_columns = int_columns_selector(data) \n",
    "\n",
    "categorical_preprocessor = OneHotEncoder(handle_unknown=\"ignore\")\n",
    "numerical_preprocessor = StandardScaler()\n",
    "\n",
    "\n",
    "preprocessor = ColumnTransformer([\n",
    "    ('one-hot-encoder', categorical_preprocessor, categorical_columns),\n",
    "    ('standard_scaler', numerical_preprocessor, numerical_columns)])"
   ]
  },
  {
   "cell_type": "code",
   "execution_count": 37,
   "metadata": {},
   "outputs": [
    {
     "name": "stdout",
     "output_type": "stream",
     "text": [
      "Support Vector Regression\n",
      "Mean Squared Error: 2.71 degrees.\n",
      "R2: 0.224\n"
     ]
    }
   ],
   "source": [
    "# Fitting SVR to the dataset\n",
    "from sklearn.svm import SVR\n",
    "\n",
    "print(\"Support Vector Regression\")\n",
    "regressor = SVR(kernel = 'rbf')\n",
    "model = make_pipeline(preprocessor, regressor)\n",
    "model.fit(data_train, target_train)\n",
    "get_fitting_summary(model, data, target)"
   ]
  },
  {
   "cell_type": "code",
   "execution_count": 38,
   "metadata": {},
   "outputs": [
    {
     "name": "stdout",
     "output_type": "stream",
     "text": [
      "Multi-layer Perceptron Regression\n",
      "Mean Squared Error: 2.38 degrees.\n",
      "R2: 0.318\n"
     ]
    }
   ],
   "source": [
    "# Fitting Multi-layer Perceptron regressor to the dataset\n",
    "from sklearn.neural_network import MLPRegressor\n",
    "print(\"Multi-layer Perceptron Regression\")\n",
    "\n",
    "regressor = MLPRegressor(hidden_layer_sizes=(20,20,20), activation='relu', solver='adam', max_iter=500)\n",
    "model = make_pipeline(preprocessor, regressor)\n",
    "model.fit(data_train, target_train)\n",
    "get_fitting_summary(model, data, target)"
   ]
  },
  {
   "cell_type": "code",
   "execution_count": 39,
   "metadata": {},
   "outputs": [
    {
     "name": "stdout",
     "output_type": "stream",
     "text": [
      "Decision Tree Regression\n",
      "Mean Squared Error: 1.49 degrees.\n",
      "R2: 0.573\n"
     ]
    }
   ],
   "source": [
    "# Fitting DecisionTreeRegressor to the dataset\n",
    "from sklearn.tree import DecisionTreeRegressor\n",
    "\n",
    "print(\"Decision Tree Regression\")\n",
    "regressor = DecisionTreeRegressor(random_state = 0)\n",
    "model = make_pipeline(preprocessor, regressor)\n",
    "model.fit(data_train, target_train)\n",
    "get_fitting_summary(model, data, target)"
   ]
  },
  {
   "cell_type": "code",
   "execution_count": 40,
   "metadata": {},
   "outputs": [
    {
     "name": "stdout",
     "output_type": "stream",
     "text": [
      "Random Forest Regression\n",
      "Mean Squared Error: 1.12 degrees.\n",
      "R2: 0.68\n"
     ]
    }
   ],
   "source": [
    "# Fitting Random Forest Regression to the dataset\n",
    "from sklearn.ensemble import RandomForestRegressor\n",
    "\n",
    "print(\"Random Forest Regression\")\n",
    "regressor = RandomForestRegressor(n_estimators = 10000, random_state = 42)\n",
    "model = make_pipeline(preprocessor, regressor)\n",
    "model.fit(data_train, target_train)\n",
    "get_fitting_summary(model, data, target)"
   ]
  },
  {
   "cell_type": "code",
   "execution_count": 41,
   "metadata": {},
   "outputs": [],
   "source": [
    "df[\"forecast\"] = model.predict(data) "
   ]
  },
  {
   "cell_type": "code",
   "execution_count": 42,
   "metadata": {},
   "outputs": [
    {
     "data": {
      "text/plain": [
       "['data/ml/my_model.pkl']"
      ]
     },
     "execution_count": 42,
     "metadata": {},
     "output_type": "execute_result"
    }
   ],
   "source": [
    "\n",
    "import joblib\n",
    "joblib.dump(model, 'data/ml/my_model.pkl', compress = 3 )\n"
   ]
  },
  {
   "cell_type": "code",
   "execution_count": null,
   "metadata": {},
   "outputs": [],
   "source": []
  },
  {
   "cell_type": "code",
   "execution_count": 43,
   "metadata": {},
   "outputs": [
    {
     "name": "stdout",
     "output_type": "stream",
     "text": [
      "home_reserve_overall: 0.1\n",
      "home_subs_overall: 0.1\n",
      "home_titular_overall: 0.15\n",
      "home_attack_overall: 0.09\n",
      "home_defend_overall: 0.08\n",
      "away_reserve_overall: 0.1\n",
      "away_subs_overall: 0.12\n",
      "away_titular_overall: 0.12\n",
      "away_attack_overall: 0.07\n",
      "away_defend_overall: 0.09\n"
     ]
    }
   ],
   "source": [
    "\n",
    "importances = regressor.feature_importances_\n",
    "for i,j in zip(importances, list(data)):\n",
    "    print(\"{}: {}\".format(\n",
    "        j,\n",
    "        round(i, 2)\n",
    "    ))\n",
    "\n"
   ]
  },
  {
   "cell_type": "code",
   "execution_count": 44,
   "metadata": {},
   "outputs": [],
   "source": [
    "prediction_summary = df[[\n",
    "    \"home\",\n",
    "    \"away\",\n",
    "    \"diff_h_a\",\n",
    "    \"forecast\",\n",
    "    ]]"
   ]
  },
  {
   "cell_type": "code",
   "execution_count": 45,
   "metadata": {},
   "outputs": [],
   "source": [
    "points_end_season = { team: 0 for team in teams_dict.values()}"
   ]
  },
  {
   "cell_type": "code",
   "execution_count": 46,
   "metadata": {},
   "outputs": [],
   "source": [
    "for index, row in prediction_summary.iterrows():\n",
    "    if row.forecast > 1:\n",
    "        points_end_season[row.home] += 3\n",
    "        points_end_season[row.away] += 0\n",
    "    elif  row.forecast < -1:\n",
    "        points_end_season[row.home] += 0\n",
    "        points_end_season[row.away] += 3\n",
    "    else:\n",
    "        points_end_season[row.home] += 1\n",
    "        points_end_season[row.away] += 1\n",
    "    "
   ]
  },
  {
   "cell_type": "code",
   "execution_count": 47,
   "metadata": {},
   "outputs": [
    {
     "name": "stdout",
     "output_type": "stream",
     "text": [
      "1. Manchester City (555) \n",
      "2. Liverpool (473) \n",
      "3. Chelsea (451) \n",
      "4. Tottenham Hotspur (439) \n",
      "5. Manchester United (436) \n",
      "6. Arsenal (415) \n",
      "7. Leicester City (305) \n",
      "8. Everton (287) \n",
      "9. West Ham United (277) \n",
      "10. Southampton (274) \n",
      "11. Crystal Palace (243) \n",
      "12. Newcastle United (197) \n",
      "13. Burnley (161) \n",
      "14. West Bromwich Albion (138) \n",
      "15. Watford (138) \n",
      "16. AFC Bournemouth (137) \n",
      "17. Brighton & Hove Albion (132) \n",
      "18. Stoke City (128) \n",
      "19. Aston Villa (125) \n",
      "20. Wolverhampton Wanderers (119) \n",
      "21. Swansea City (112) \n",
      "22. Sunderland (79) \n",
      "23. Huddersfield Town (54) \n",
      "24. Sheffield United (52) \n",
      "25. Fulham (49) \n",
      "26. Leeds United (42) \n",
      "27. Cardiff City (34) \n",
      "28. Hull City (31) \n",
      "29. Middlesbrough (26) \n",
      "30. Norwich City (22) \n"
     ]
    }
   ],
   "source": [
    "results = sorted( ((v,k) for k,v in points_end_season.items()), reverse=True)\n",
    "for index, (points, team) in enumerate(results):\n",
    "    print(f\"{index + 1 }. {team} ({points}) \")\n"
   ]
  }
 ],
 "metadata": {
  "kernelspec": {
   "display_name": "Python 3.10.6 ('personal_projects-fsNPPoSg')",
   "language": "python",
   "name": "python3"
  },
  "language_info": {
   "codemirror_mode": {
    "name": "ipython",
    "version": 3
   },
   "file_extension": ".py",
   "mimetype": "text/x-python",
   "name": "python",
   "nbconvert_exporter": "python",
   "pygments_lexer": "ipython3",
   "version": "3.10.6"
  },
  "orig_nbformat": 4,
  "vscode": {
   "interpreter": {
    "hash": "157c71d8c6bb0527be9cb398e19742748f71aa7f7d4d322a3dcb8476f5991a7e"
   }
  }
 },
 "nbformat": 4,
 "nbformat_minor": 2
}
