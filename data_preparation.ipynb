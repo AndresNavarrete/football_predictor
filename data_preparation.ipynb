{
 "cells": [
  {
   "cell_type": "code",
   "execution_count": 11,
   "metadata": {},
   "outputs": [],
   "source": [
    "import pandas\n",
    "import duckdb\n",
    "from src.club_names import name_dict\n",
    "import numpy as np\n",
    "from os import walk\n"
   ]
  },
  {
   "cell_type": "code",
   "execution_count": 12,
   "metadata": {},
   "outputs": [],
   "source": [
    "FIFA_PATH = \"data/fifa\"\n",
    "PREMIER_PATH = \"data/results_premier/results.csv\"\n",
    "ML_PATH = \"data/ml\"\n",
    "CURRENT_SEASON = \"2021-22\"\n",
    "relevant_fields = ['club_name', 'overall', 'club_position', 'league_name']"
   ]
  },
  {
   "cell_type": "code",
   "execution_count": 13,
   "metadata": {},
   "outputs": [],
   "source": [
    "def get_historical_players():\n",
    "    data_path = f\"{FIFA_PATH}/historical_data\"\n",
    "    f , dfs = [] , []\n",
    "    for (_, _, filenames) in walk(data_path):\n",
    "        f.extend(filenames)\n",
    "\n",
    "    for filename in f:\n",
    "        path = f\"{data_path}/{filename}\"\n",
    "        new_df = pandas.read_csv(path,skipinitialspace=True, usecols=relevant_fields)\n",
    "        new_df[\"season\"] = filename[:-4]\n",
    "        dfs.append(new_df)\n",
    "        \n",
    "    return pandas.concat(dfs)\n",
    "\n",
    "def get_current_players():\n",
    "    data_path = f\"{FIFA_PATH}/current_season_data/{CURRENT_SEASON}.csv\"\n",
    "    df = pandas.read_csv(data_path,skipinitialspace=True, usecols=relevant_fields)\n",
    "    df[\"season\"] = CURRENT_SEASON\n",
    "    return df    "
   ]
  },
  {
   "cell_type": "code",
   "execution_count": 14,
   "metadata": {},
   "outputs": [],
   "source": [
    "def get_team_stats(players):\n",
    "  query = \"\"\"\n",
    "      SELECT \n",
    "        club_name\n",
    "        , season\n",
    "        , avg(overall) filter(where club_position = 'RES') as reserve_overall\n",
    "        , avg(overall) filter(where club_position = 'SUB') as subs_overall\n",
    "        , avg(overall) filter(where club_position not in ('RES','SUB') ) as titular_overall\n",
    "        , avg(overall) filter(where club_position in ('ST','CAM','LS','LW', 'RW','CF','RS' , 'LM' , 'RF') ) as attack_overall\n",
    "        , avg(overall) filter(where club_position in ( 'GK', 'LCB', 'RCB' ,'CDM', 'LDM' , 'RDM', 'LB', 'RB' ,'CB', 'RCB' , 'LCB' ) ) as defend_overall\n",
    "\n",
    "      FROM players \n",
    "      where league_name = 'English Premier League' and club_position not null\n",
    "      group by club_name, season\n",
    "      \n",
    "  \"\"\"\n",
    "  teams = duckdb.query(query).to_df()\n",
    "  return teams\n"
   ]
  },
  {
   "cell_type": "code",
   "execution_count": 15,
   "metadata": {},
   "outputs": [],
   "source": [
    "\n",
    "\n",
    "def get_matches_results(results, seasons):\n",
    "    seasons_string = ','.join(f\"\"\"'{season}'\"\"\" for season in seasons)\n",
    "    query = f\"\"\"\n",
    "        SELECT \n",
    "            season ,\n",
    "            HomeTeam,  \n",
    "            AwayTeam,\n",
    "            FTHG as goals_home,\n",
    "            FTAG as goals_away\n",
    "            \n",
    "        FROM results\n",
    "        where \n",
    "            season in ({seasons_string})\n",
    "    \"\"\"\n",
    "    matches = duckdb.query(query).to_df()\n",
    "    matches[\"away_code\"] = matches.AwayTeam.apply(lambda x: name_dict[x])\n",
    "    matches[\"home_code\"] = matches.HomeTeam.apply(lambda x: name_dict[x])\n",
    "    return  matches"
   ]
  },
  {
   "cell_type": "code",
   "execution_count": 16,
   "metadata": {},
   "outputs": [],
   "source": [
    "\n",
    "def get_database(matches, teams):\n",
    "    query = \"\"\"\n",
    "        SELECT \n",
    "            r.season,\n",
    "            home_code as home\n",
    "            ,away_code as away\n",
    "            ,goals_home\n",
    "            ,goals_away\n",
    "            , th.reserve_overall as home_reserve_overall\n",
    "            , th.subs_overall as home_subs_overall\n",
    "            , th.titular_overall as home_titular_overall\n",
    "            , th.attack_overall as home_attack_overall\n",
    "            , th.defend_overall as home_defend_overall\n",
    "            , ta.reserve_overall as away_reserve_overall\n",
    "            , ta.subs_overall as away_subs_overall\n",
    "            , ta.titular_overall as away_titular_overall\n",
    "            , ta.attack_overall as away_attack_overall\n",
    "            , ta.defend_overall as away_defend_overall\n",
    "        FROM matches r\n",
    "        Left Join teams th on (r.home_code, r.season) = (th.club_name, th.season)\n",
    "        Left Join teams ta on (r.away_code, r.season) = (ta.club_name, ta.season)\n",
    "    \"\"\"\n",
    "    df = duckdb.query(query).to_df()\n",
    "    rows_with_errors = df[df.isnull().any(axis=1)].index\n",
    "    return df.drop(df.index[rows_with_errors])"
   ]
  },
  {
   "cell_type": "code",
   "execution_count": 17,
   "metadata": {},
   "outputs": [],
   "source": [
    "def get_matches_current_season(team_stats):\n",
    "    matches_current_season = []\n",
    "    for home in team_stats.club_name.unique():\n",
    "        for away in team_stats.club_name.unique():\n",
    "            if home == away:\n",
    "                continue\n",
    "            match = {\n",
    "                \"season\": CURRENT_SEASON,\n",
    "                \"home_code\": home,\n",
    "                \"away_code\": away,\n",
    "                \"goals_home\": -1,\n",
    "                \"goals_away\": -1,        \n",
    "            }\n",
    "            matches_current_season.append(match)\n",
    "    return pandas.DataFrame(matches_current_season)\n"
   ]
  },
  {
   "cell_type": "code",
   "execution_count": 18,
   "metadata": {},
   "outputs": [],
   "source": [
    "\n",
    "players = get_historical_players()\n",
    "team_stats = get_team_stats(players)\n",
    "results = pandas.read_csv(PREMIER_PATH, encoding = \"ISO-8859-1\")\n",
    "historical_seasons = [\n",
    "            '2014-15',\n",
    "            '2015-16',\n",
    "            '2016-17', \n",
    "            '2017-18', \n",
    "            '2018-19',\n",
    "            '2019-20',\n",
    "            '2020-21',\n",
    "]\n",
    "matches = get_matches_results(results, historical_seasons)\n",
    "df_historical = get_database(matches, team_stats)\n"
   ]
  },
  {
   "cell_type": "code",
   "execution_count": 19,
   "metadata": {},
   "outputs": [],
   "source": [
    "\n",
    "current_players = get_current_players()\n",
    "team_stats = get_team_stats(current_players)\n",
    "matches = get_matches_current_season(team_stats)\n",
    "df_current = get_database(matches, team_stats)\n"
   ]
  },
  {
   "cell_type": "code",
   "execution_count": 20,
   "metadata": {},
   "outputs": [],
   "source": [
    "\n",
    "df_historical.to_csv(f'{ML_PATH}/df_historical.csv', index=False)\n",
    "df_current.to_csv(f'{ML_PATH}/df_current.csv', index=False)\n"
   ]
  }
 ],
 "metadata": {
  "kernelspec": {
   "display_name": "Python 3.10.6 ('personal_projects-fsNPPoSg')",
   "language": "python",
   "name": "python3"
  },
  "language_info": {
   "codemirror_mode": {
    "name": "ipython",
    "version": 3
   },
   "file_extension": ".py",
   "mimetype": "text/x-python",
   "name": "python",
   "nbconvert_exporter": "python",
   "pygments_lexer": "ipython3",
   "version": "3.10.6"
  },
  "orig_nbformat": 4,
  "vscode": {
   "interpreter": {
    "hash": "157c71d8c6bb0527be9cb398e19742748f71aa7f7d4d322a3dcb8476f5991a7e"
   }
  }
 },
 "nbformat": 4,
 "nbformat_minor": 2
}
