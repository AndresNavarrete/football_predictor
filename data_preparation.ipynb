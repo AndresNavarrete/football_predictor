{
 "cells": [
  {
   "cell_type": "code",
   "execution_count": 29,
   "metadata": {},
   "outputs": [],
   "source": [
    "import pandas\n",
    "import duckdb\n",
    "from src.club_names import name_dict"
   ]
  },
  {
   "cell_type": "code",
   "execution_count": 2,
   "metadata": {},
   "outputs": [],
   "source": [
    "\n",
    "players = pandas.read_csv(r\"data/fifa/players_21.csv\")\n",
    "results = pandas.read_csv(r\"data/results_premier/results.csv\", encoding = \"ISO-8859-1\")\n",
    "\n"
   ]
  },
  {
   "cell_type": "code",
   "execution_count": 7,
   "metadata": {},
   "outputs": [],
   "source": [
    "query = \"\"\"\n",
    "    SELECT \n",
    "      club_name\n",
    "      , avg(overall) filter(where club_position = 'RES') as reserve_overall\n",
    "      , avg(overall) filter(where club_position = 'SUB') as subs_overall\n",
    "      , avg(overall) filter(where club_position not in ('RES','SUB') ) as titular_overall\n",
    "      , avg(overall) filter(where club_position in ('ST','CAM','LS','LW', 'RW','CF','RS' , 'LM' , 'RF') ) as attack_overall\n",
    "      , avg(overall) filter(where club_position in ( 'GK', 'LCB', 'RCB' ,'CDM', 'LDM' , 'RDM', 'LB', 'RB' ,'CB', 'RCB' , 'LCB' ) ) as defend_overall\n",
    "\n",
    "    FROM players \n",
    "    where league_name = 'English Premier League' \n",
    "    group by club_name\n",
    "    \n",
    "\"\"\"\n",
    "teams_21 = duckdb.query(query).to_df()\n"
   ]
  },
  {
   "cell_type": "code",
   "execution_count": 35,
   "metadata": {},
   "outputs": [],
   "source": [
    "\n",
    "query = \"\"\"\n",
    "    SELECT \n",
    "        Season ,\n",
    "        HomeTeam,  \n",
    "        AwayTeam,\n",
    "        FTHG as goals_home,\n",
    "        FTAG as goals_away\n",
    "        \n",
    "    FROM results\n",
    "    where \n",
    "        season = '2020-21'\n",
    "\"\"\"\n",
    "results_21 = duckdb.query(query).to_df()"
   ]
  },
  {
   "cell_type": "code",
   "execution_count": 38,
   "metadata": {},
   "outputs": [],
   "source": [
    "results_21[\"away_code\"] = results_21.AwayTeam.apply(lambda x: name_dict[x])\n",
    "results_21[\"home_code\"] = results_21.HomeTeam.apply(lambda x: name_dict[x])"
   ]
  },
  {
   "cell_type": "code",
   "execution_count": 45,
   "metadata": {},
   "outputs": [],
   "source": [
    "query = \"\"\"\n",
    "    SELECT \n",
    "        home_code as home\n",
    "        ,away_code as away\n",
    "        ,goals_home\n",
    "        ,goals_away\n",
    "        , th.reserve_overall as home_reserve_overall\n",
    "        , th.subs_overall as home_subs_overall\n",
    "        , th.titular_overall as home_titular_overall\n",
    "        , th.attack_overall as home_attack_overall\n",
    "        , th.defend_overall as home_defend_overall\n",
    "        , ta.reserve_overall as away_reserve_overall\n",
    "        , ta.subs_overall as away_subs_overall\n",
    "        , ta.titular_overall as away_titular_overall\n",
    "        , ta.attack_overall as away_attack_overall\n",
    "        , ta.defend_overall as away_defend_overall\n",
    "    FROM results_21 r\n",
    "    Left Join teams_21 th on r.home_code = th.club_name\n",
    "    Left Join teams_21 ta on r.away_code = ta.club_name\n",
    "\"\"\"\n",
    "df = duckdb.query(query).to_df()"
   ]
  },
  {
   "cell_type": "code",
   "execution_count": 49,
   "metadata": {},
   "outputs": [],
   "source": [
    "df.to_csv('data/ml/df.csv', index=False)"
   ]
  }
 ],
 "metadata": {
  "kernelspec": {
   "display_name": "Python 3.10.6 ('personal_projects-fsNPPoSg')",
   "language": "python",
   "name": "python3"
  },
  "language_info": {
   "codemirror_mode": {
    "name": "ipython",
    "version": 3
   },
   "file_extension": ".py",
   "mimetype": "text/x-python",
   "name": "python",
   "nbconvert_exporter": "python",
   "pygments_lexer": "ipython3",
   "version": "3.10.6"
  },
  "orig_nbformat": 4,
  "vscode": {
   "interpreter": {
    "hash": "157c71d8c6bb0527be9cb398e19742748f71aa7f7d4d322a3dcb8476f5991a7e"
   }
  }
 },
 "nbformat": 4,
 "nbformat_minor": 2
}
