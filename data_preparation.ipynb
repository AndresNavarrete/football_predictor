{
 "cells": [
  {
   "cell_type": "code",
   "execution_count": 49,
   "metadata": {},
   "outputs": [],
   "source": [
    "import pandas\n",
    "import duckdb\n",
    "from src.club_names import name_dict\n",
    "import numpy as np\n",
    "from os import walk\n"
   ]
  },
  {
   "cell_type": "code",
   "execution_count": 50,
   "metadata": {},
   "outputs": [],
   "source": [
    "def get_players():\n",
    "    f , dfs = [] , []\n",
    "    for (dirpath, dirnames, filenames) in walk(\"data/fifa/historical_data\"):\n",
    "        f.extend(filenames)\n",
    "    relevant_fields = ['club_name', 'overall', 'club_position', 'league_name']\n",
    "\n",
    "    for filename in f:\n",
    "        path = \"data/fifa/historical_data/\" + filename\n",
    "        new_df = pandas.read_csv(path,skipinitialspace=True, usecols=relevant_fields)\n",
    "        new_df[\"season\"] = filename[:-4]\n",
    "        dfs.append(new_df)\n",
    "        \n",
    "    return pandas.concat(dfs)\n",
    "    "
   ]
  },
  {
   "cell_type": "code",
   "execution_count": 51,
   "metadata": {},
   "outputs": [],
   "source": [
    "\n",
    "players = get_players()\n",
    "results = pandas.read_csv(r\"data/results_premier/results.csv\", encoding = \"ISO-8859-1\")\n",
    "\n"
   ]
  },
  {
   "cell_type": "code",
   "execution_count": 52,
   "metadata": {},
   "outputs": [],
   "source": [
    "query = \"\"\"\n",
    "    SELECT \n",
    "      club_name\n",
    "      , season\n",
    "      , avg(overall) filter(where club_position = 'RES') as reserve_overall\n",
    "      , avg(overall) filter(where club_position = 'SUB') as subs_overall\n",
    "      , avg(overall) filter(where club_position not in ('RES','SUB') ) as titular_overall\n",
    "      , avg(overall) filter(where club_position in ('ST','CAM','LS','LW', 'RW','CF','RS' , 'LM' , 'RF') ) as attack_overall\n",
    "      , avg(overall) filter(where club_position in ( 'GK', 'LCB', 'RCB' ,'CDM', 'LDM' , 'RDM', 'LB', 'RB' ,'CB', 'RCB' , 'LCB' ) ) as defend_overall\n",
    "\n",
    "    FROM players \n",
    "    where league_name = 'English Premier League' and club_position not null\n",
    "    group by club_name, season\n",
    "    \n",
    "\"\"\"\n",
    "teams = duckdb.query(query).to_df()\n"
   ]
  },
  {
   "cell_type": "code",
   "execution_count": 53,
   "metadata": {},
   "outputs": [],
   "source": [
    "\n",
    "query = \"\"\"\n",
    "    SELECT \n",
    "        season ,\n",
    "        HomeTeam,  \n",
    "        AwayTeam,\n",
    "        FTHG as goals_home,\n",
    "        FTAG as goals_away\n",
    "        \n",
    "    FROM results\n",
    "    where \n",
    "        season in (\n",
    "            '2014-15',\n",
    "            '2015-16',\n",
    "            '2016-17', \n",
    "            '2017-18', \n",
    "            '2018-19',\n",
    "            '2019-20',\n",
    "            '2020-21'\n",
    "            )\n",
    "\"\"\"\n",
    "matches = duckdb.query(query).to_df()"
   ]
  },
  {
   "cell_type": "code",
   "execution_count": 54,
   "metadata": {},
   "outputs": [],
   "source": [
    "matches[\"away_code\"] = matches.AwayTeam.apply(lambda x: name_dict[x])\n",
    "matches[\"home_code\"] = matches.HomeTeam.apply(lambda x: name_dict[x])"
   ]
  },
  {
   "cell_type": "code",
   "execution_count": 55,
   "metadata": {},
   "outputs": [],
   "source": [
    "query = \"\"\"\n",
    "    SELECT \n",
    "        r.season,\n",
    "        home_code as home\n",
    "        ,away_code as away\n",
    "        ,goals_home\n",
    "        ,goals_away\n",
    "        , th.reserve_overall as home_reserve_overall\n",
    "        , th.subs_overall as home_subs_overall\n",
    "        , th.titular_overall as home_titular_overall\n",
    "        , th.attack_overall as home_attack_overall\n",
    "        , th.defend_overall as home_defend_overall\n",
    "        , ta.reserve_overall as away_reserve_overall\n",
    "        , ta.subs_overall as away_subs_overall\n",
    "        , ta.titular_overall as away_titular_overall\n",
    "        , ta.attack_overall as away_attack_overall\n",
    "        , ta.defend_overall as away_defend_overall\n",
    "    FROM matches r\n",
    "    Left Join teams th on (r.home_code, r.season) = (th.club_name, th.season)\n",
    "    Left Join teams ta on (r.away_code, r.season) = (ta.club_name, ta.season)\n",
    "\"\"\"\n",
    "df = duckdb.query(query).to_df()"
   ]
  },
  {
   "cell_type": "code",
   "execution_count": 56,
   "metadata": {},
   "outputs": [],
   "source": [
    "rows_with_errors = df[df.isnull().any(axis=1)].index\n",
    "df = df.drop(df.index[rows_with_errors])"
   ]
  },
  {
   "cell_type": "code",
   "execution_count": 57,
   "metadata": {},
   "outputs": [],
   "source": [
    "df.to_csv('data/ml/df.csv', index=False)"
   ]
  }
 ],
 "metadata": {
  "kernelspec": {
   "display_name": "Python 3.10.6 ('personal_projects-fsNPPoSg')",
   "language": "python",
   "name": "python3"
  },
  "language_info": {
   "codemirror_mode": {
    "name": "ipython",
    "version": 3
   },
   "file_extension": ".py",
   "mimetype": "text/x-python",
   "name": "python",
   "nbconvert_exporter": "python",
   "pygments_lexer": "ipython3",
   "version": "3.10.6"
  },
  "orig_nbformat": 4,
  "vscode": {
   "interpreter": {
    "hash": "157c71d8c6bb0527be9cb398e19742748f71aa7f7d4d322a3dcb8476f5991a7e"
   }
  }
 },
 "nbformat": 4,
 "nbformat_minor": 2
}
